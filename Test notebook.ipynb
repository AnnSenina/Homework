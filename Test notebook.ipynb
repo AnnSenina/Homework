{
 "cells": [
  {
   "cell_type": "code",
   "execution_count": 2,
   "id": "e2063259",
   "metadata": {},
   "outputs": [
    {
     "data": {
      "text/plain": [
       "5"
      ]
     },
     "execution_count": 2,
     "metadata": {},
     "output_type": "execute_result"
    }
   ],
   "source": [
    "3+2"
   ]
  },
  {
   "cell_type": "code",
   "execution_count": 3,
   "id": "3d741bbe",
   "metadata": {},
   "outputs": [
    {
     "name": "stdout",
     "output_type": "stream",
     "text": [
      "12\n"
     ]
    }
   ],
   "source": [
    "a=5\n",
    "b=7\n",
    "print (a+b)"
   ]
  },
  {
   "cell_type": "code",
   "execution_count": 11,
   "id": "ee1a2f82",
   "metadata": {},
   "outputs": [
    {
     "name": "stdout",
     "output_type": "stream",
     "text": [
      "0\n",
      "10\n",
      "20\n",
      "30\n",
      "40\n",
      "50\n",
      "60\n"
     ]
    }
   ],
   "source": [
    "n=7\n",
    "for i in range (n):\n",
    "    print (i*10)"
   ]
  },
  {
   "cell_type": "code",
   "execution_count": 12,
   "id": "3f764a60",
   "metadata": {},
   "outputs": [
    {
     "name": "stdout",
     "output_type": "stream",
     "text": [
      "Test While\n",
      "Test While\n",
      "Test While\n",
      "Test While\n",
      "Test While\n"
     ]
    }
   ],
   "source": [
    "i=0\n",
    "while True:\n",
    "    i+=1\n",
    "    if i>5:\n",
    "        break\n",
    "    print (\"Test While\")"
   ]
  },
  {
   "cell_type": "code",
   "execution_count": null,
   "id": "879f88fc",
   "metadata": {},
   "outputs": [],
   "source": []
  },
  {
   "cell_type": "code",
   "execution_count": null,
   "id": "a8bd6449",
   "metadata": {},
   "outputs": [],
   "source": []
  }
 ],
 "metadata": {
  "kernelspec": {
   "display_name": "Python 3 (ipykernel)",
   "language": "python",
   "name": "python3"
  },
  "language_info": {
   "codemirror_mode": {
    "name": "ipython",
    "version": 3
   },
   "file_extension": ".py",
   "mimetype": "text/x-python",
   "name": "python",
   "nbconvert_exporter": "python",
   "pygments_lexer": "ipython3",
   "version": "3.11.5"
  }
 },
 "nbformat": 4,
 "nbformat_minor": 5
}
